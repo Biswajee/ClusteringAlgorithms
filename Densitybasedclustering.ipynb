{
 "cells": [
  {
   "cell_type": "code",
   "execution_count": 1,
   "metadata": {},
   "outputs": [],
   "source": [
    "# import libraries\n",
    "import numpy as np\n",
    "from matplotlib import image\n",
    "import matplotlib.pyplot as plt\n",
    "from sklearn import cluster"
   ]
  },
  {
   "cell_type": "code",
   "execution_count": 2,
   "metadata": {},
   "outputs": [],
   "source": [
    "# read the image file\n",
    "inp_img = image.imread('apple.jpg')"
   ]
  },
  {
   "cell_type": "code",
   "execution_count": 3,
   "metadata": {},
   "outputs": [
    {
     "data": {
      "text/plain": [
       "(28, 28, 3)"
      ]
     },
     "execution_count": 3,
     "metadata": {},
     "output_type": "execute_result"
    }
   ],
   "source": [
    "inp_img.shape # array dimensions"
   ]
  },
  {
   "cell_type": "code",
   "execution_count": 4,
   "metadata": {},
   "outputs": [],
   "source": [
    "img = np.reshape(inp_img, (inp_img.shape[0]*inp_img.shape[1], 3))  # reshape from a 3D to 2D array for K means"
   ]
  },
  {
   "cell_type": "code",
   "execution_count": 5,
   "metadata": {},
   "outputs": [
    {
     "data": {
      "text/plain": [
       "(784, 3)"
      ]
     },
     "execution_count": 5,
     "metadata": {},
     "output_type": "execute_result"
    }
   ],
   "source": [
    "img.shape # 2D array shape"
   ]
  },
  {
   "cell_type": "code",
   "execution_count": 6,
   "metadata": {},
   "outputs": [],
   "source": [
    "# run sklearn density based clustering algo for cluster size = 2\n",
    "db = cluster.DBSCAN(eps=0.1, min_samples=2)\n",
    "_ = db.fit(img)"
   ]
  },
  {
   "cell_type": "code",
   "execution_count": 7,
   "metadata": {},
   "outputs": [
    {
     "name": "stdout",
     "output_type": "stream",
     "text": [
      "labels: [-1 -1  0  1  2 -1 -1  3 -1  4  1  1  5 -1 -1 -1 -1  6 -1  7  8 -1  5  5\n",
      " -1 -1  9 10 -1 -1  2 -1 -1 -1 11 -1 12 11  2  1  6 13 -1 -1 -1  9 14 -1\n",
      " 10  2 -1  1  5  1 15 12 -1 -1  1  1  2 -1 16 17 -1 -1 18 -1  9 19 20 -1\n",
      " -1 21 -1 -1 22 -1 -1 23 23 23 24 18 18 24 -1 -1 15 -1 -1 25 -1 -1 26 27\n",
      " 28 -1 -1 -1 29 30 31 32 -1 -1 14 14  7  7 16 16 -1  2 15 23 11 19 -1 20\n",
      " -1 33 31 34 35 -1 -1 -1 -1 -1 -1 -1 36 37 -1 12  7 17  7 16  5  4 24 -1\n",
      " -1 -1 35 -1 -1 -1 -1 -1 -1 -1 -1 -1 -1 -1 -1 -1 -1 -1 38 39 24 16 18 18\n",
      " -1 40 22 25 41 -1 -1 -1 -1 -1 -1 -1 -1 -1 -1 -1 -1 -1 -1 -1 -1 -1 -1 38\n",
      "  9 23 15 15 42 -1 -1 -1 43 -1 -1 -1 -1 -1 -1 -1 -1 -1 -1 -1 -1 -1 -1 -1\n",
      " -1 -1 -1 34 44 15  2  2 23 16 -1 27 -1 -1 -1 -1 -1 -1 -1 -1 -1 -1 -1 -1\n",
      " -1 -1 -1 -1 -1 -1 -1 -1 -1 45  2  6 46 18 47 43 -1 -1 -1 -1 -1 -1 -1 -1\n",
      " -1 -1 -1 -1 -1 -1 -1 -1 -1 -1 -1 -1 -1 21 -1  6 24 11 45 -1 -1 -1 -1 -1\n",
      " -1 -1 -1 -1 -1 -1 -1 -1 -1 -1 -1 -1 -1 -1 -1 -1 33 48 -1 -1 15 39 49 -1\n",
      " -1 -1 -1 -1 -1 -1 -1 -1 -1 -1 -1 -1 50 -1 -1 -1 -1 -1 -1 -1 -1 -1 13 51\n",
      "  4 -1 36 -1 -1 -1 -1 -1 -1 -1 -1 -1 -1 -1 -1 -1 50 -1 -1 -1 -1 -1 -1 -1\n",
      " -1 -1 -1 51  1  0 -1 -1 -1 -1 -1 -1 -1 -1 -1 -1 -1 -1 -1 -1 -1 -1 -1 -1\n",
      " -1 -1 -1 -1 -1 -1 52  8 -1  2 -1 -1 -1 -1 -1 -1 -1 -1 -1 -1 -1 -1 -1 -1\n",
      " -1 -1 -1 -1 -1 -1 -1 -1 -1 -1 52  2 24 23 40 -1 -1 -1 -1 -1 -1 -1 -1 -1\n",
      " -1 -1 -1 -1 -1 -1 -1 -1 -1 -1 -1 -1 -1 53 44 23 23 11 19 -1 -1 -1 -1 -1\n",
      " -1 -1 -1 -1 -1 -1 -1 -1 -1 -1 -1 -1 -1 -1 -1 -1 54 37 -1 -1 23 -1 19 -1\n",
      " -1 -1 -1 -1 -1 -1 -1 -1 -1 -1 -1 -1 -1 -1 55 -1 -1 -1 -1 -1 -1 56 -1 -1\n",
      " 18 23 40 41 -1 -1 -1 -1 -1 -1 -1 -1 -1 -1 -1 -1 -1 55 -1 -1 -1 -1 -1 -1\n",
      " 30 56 -1 17 18 23 -1 49 -1 -1 -1 -1 -1 -1 -1 -1 -1 -1 -1 -1 -1 -1 -1 -1\n",
      " -1 -1 -1 -1 53 21 23 24 46 24 -1 13 31 -1 -1 -1 -1 -1 -1 -1 -1 -1 -1 -1\n",
      " -1 -1 -1 -1 -1 -1 -1 54 32 26 15 15 18 24 -1 40 28 -1 -1 -1 -1 -1 -1 -1\n",
      " -1 -1 -1 -1 -1 -1 -1 -1 -1 -1 -1 -1 45 11 15 15 18 24 -1 11 40 -1 -1 -1\n",
      " -1 -1 -1 -1 -1 -1 -1 -1 -1 -1 -1 -1 -1 -1 29 48 10 11 15 15 18 23 23 -1\n",
      " 10 19 -1 -1 -1 -1 -1 -1 -1 -1 -1 -1 -1 -1 -1 -1 -1 -1 -1 -1 15 11 23 24\n",
      " 15 15 15 11 24 10 13 -1 -1 -1 -1 -1 -1 -1 -1 -1 -1 -1 -1 -1 -1 -1 -1 -1\n",
      " 15 15 23 18  2  2  2 11 18 24  3 -1 -1 -1 -1 -1 -1 -1 -1 -1 -1 -1 -1 -1\n",
      " -1 56 -1 24  2  2 23 24 42  6  2 11 18 16 23 -1 38 -1 -1 -1 -1 -1 -1 -1\n",
      " -1 -1 -1 -1 -1 -1 -1 24  6  6 15 23 -1 42  2 11 18 16 18 26 -1 -1 -1 -1\n",
      " -1 57 57 -1 -1 -1 -1 -1 -1 -1 47 23  6  1 15 11]\n"
     ]
    }
   ],
   "source": [
    "labels = db.labels_\n",
    "print('labels:', labels)"
   ]
  },
  {
   "cell_type": "code",
   "execution_count": 8,
   "metadata": {},
   "outputs": [],
   "source": [
    "img_clustered = labels.reshape(inp_img.shape[0], inp_img.shape[1]) # reshape back to 2D array"
   ]
  },
  {
   "cell_type": "code",
   "execution_count": 9,
   "metadata": {},
   "outputs": [
    {
     "data": {
      "text/plain": [
       "(28, 28)"
      ]
     },
     "execution_count": 9,
     "metadata": {},
     "output_type": "execute_result"
    }
   ],
   "source": [
    "img_clustered.shape"
   ]
  },
  {
   "cell_type": "code",
   "execution_count": 10,
   "metadata": {},
   "outputs": [
    {
     "data": {
      "image/png": "[encoded data removed]",
      "text/plain": [
       "<Figure size 432x288 with 2 Axes>"
      ]
     },
     "metadata": {
      "needs_background": "light"
     },
     "output_type": "display_data"
    }
   ],
   "source": [
    "# plot results\n",
    "fig, (ax1, ax2) = plt.subplots(1,2)\n",
    "fig.suptitle('DB Scan on image', fontsize=20)\n",
    "ax1.set_title('Original image')\n",
    "ax1.imshow(inp_img)\n",
    "ax2.set_title('Clustered image')\n",
    "ax2.imshow(img_clustered)\n",
    "plt.tight_layout()\n",
    "plt.show()"
   ]
  }
 ],
 "metadata": {
  "kernelspec": {
   "display_name": "Python 3",
   "language": "python",
   "name": "python3"
  },
  "language_info": {
   "codemirror_mode": {
    "name": "ipython",
    "version": 3
   },
   "file_extension": ".py",
   "mimetype": "text/x-python",
   "name": "python",
   "nbconvert_exporter": "python",
   "pygments_lexer": "ipython3",
   "version": "3.5.6"
  }
 },
 "nbformat": 4,
 "nbformat_minor": 2
}
