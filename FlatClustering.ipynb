{
 "cells": [
  {
   "cell_type": "markdown",
   "metadata": {},
   "source": [
    "## Unsupervised Machine Learning - Flat Clustering with KMeans"
   ]
  },
  {
   "cell_type": "code",
   "execution_count": 1,
   "metadata": {},
   "outputs": [],
   "source": [
    "# import required libraries\n",
    "import numpy as np\n",
    "import matplotlib.pyplot as plt\n",
    "from matplotlib import style\n",
    "style.use('ggplot')\n",
    "from sklearn.cluster import KMeans"
   ]
  },
  {
   "cell_type": "code",
   "execution_count": 2,
   "metadata": {},
   "outputs": [
    {
     "data": {
      "image/png": "[encoded data removed]",
      "text/plain": [
       "<Figure size 432x288 with 1 Axes>"
      ]
     },
     "metadata": {
      "needs_background": "light"
     },
     "output_type": "display_data"
    }
   ],
   "source": [
    "# sample data points\n",
    "x = [1, 5, 1.5, 8, 1, 9, 20, 10, 7, 4, 2, 2, 9, 10, 11, 12]\n",
    "y = [2, 5, 5, 3, 4, 7, 8, 10, 1, 8, 4, 3, 8, 9, 7, 8]\n",
    "\n",
    "#plot the data points\n",
    "plt.scatter(x, y)\n",
    "plt.show()"
   ]
  },
  {
   "cell_type": "code",
   "execution_count": 3,
   "metadata": {},
   "outputs": [],
   "source": [
    "# convert to ndarray with (x, y) coords for kmeans\n",
    "X = np.array([x, y]).reshape(16,2)"
   ]
  },
  {
   "cell_type": "code",
   "execution_count": 4,
   "metadata": {},
   "outputs": [
    {
     "name": "stdout",
     "output_type": "stream",
     "text": [
      "centroids: [[ 2.85  5.4 ]\n",
      " [20.   10.  ]\n",
      " [ 8.6   9.8 ]]\n",
      "labels: [0 0 0 1 0 0 2 2 0 0 0 2 0 0 2 2]\n"
     ]
    }
   ],
   "source": [
    "# K-means algorithm [scikit learn]\n",
    "kmeans = KMeans(n_clusters = 3)\n",
    "kmeans.fit(X)\n",
    "\n",
    "centroids = kmeans.cluster_centers_ # get centroids for the data points\n",
    "labels = kmeans.labels_ # get kmeans assigned labels\n",
    "\n",
    "print('centroids:', centroids)\n",
    "print('labels:', labels)"
   ]
  },
  {
   "cell_type": "code",
   "execution_count": 5,
   "metadata": {},
   "outputs": [
    {
     "name": "stdout",
     "output_type": "stream",
     "text": [
      "coordinate: [1. 5.] label: 0\n",
      "coordinate: [1.5 8. ] label: 0\n",
      "coordinate: [1. 9.] label: 0\n",
      "coordinate: [20. 10.] label: 1\n",
      "coordinate: [7. 4.] label: 0\n",
      "coordinate: [2. 2.] label: 0\n",
      "coordinate: [ 9. 10.] label: 2\n",
      "coordinate: [11. 12.] label: 2\n",
      "coordinate: [2. 5.] label: 0\n",
      "coordinate: [5. 3.] label: 0\n",
      "coordinate: [4. 7.] label: 0\n",
      "coordinate: [ 8. 10.] label: 2\n",
      "coordinate: [1. 8.] label: 0\n",
      "coordinate: [4. 3.] label: 0\n",
      "coordinate: [8. 9.] label: 2\n",
      "coordinate: [7. 8.] label: 2\n"
     ]
    },
    {
     "data": {
      "image/png": "[encoded data removed]",
      "text/plain": [
       "<Figure size 432x288 with 1 Axes>"
      ]
     },
     "metadata": {
      "needs_background": "light"
     },
     "output_type": "display_data"
    }
   ],
   "source": [
    "# plotting results\n",
    "colors = ['r.', 'g.', 'c.']\n",
    "\n",
    "for i in range(len(X)):\n",
    "    print('coordinate:', X[i], 'label:', labels[i])\n",
    "    plt.plot(X[i][0], X[i][1], colors[labels[i]], markersize = 10)\n",
    "    plt.scatter(centroids[labels[i]][0], centroids[labels[i]][1], marker='x', s=150, linewidths=5, zorder=10)"
   ]
  }
 ],
 "metadata": {
  "kernelspec": {
   "display_name": "Python 3",
   "language": "python",
   "name": "python3"
  },
  "language_info": {
   "codemirror_mode": {
    "name": "ipython",
    "version": 3
   },
   "file_extension": ".py",
   "mimetype": "text/x-python",
   "name": "python",
   "nbconvert_exporter": "python",
   "pygments_lexer": "ipython3",
   "version": "3.5.6"
  }
 },
 "nbformat": 4,
 "nbformat_minor": 2
}
