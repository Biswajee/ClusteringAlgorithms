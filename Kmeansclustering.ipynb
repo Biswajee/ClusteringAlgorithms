{
 "cells": [
  {
   "cell_type": "code",
   "execution_count": 45,
   "metadata": {},
   "outputs": [],
   "source": [
    "from matplotlib import image\n",
    "from sklearn import cluster\n",
    "import numpy as np\n",
    "import matplotlib.pyplot as plt\n",
    "from PIL import Image"
   ]
  },
  {
   "cell_type": "code",
   "execution_count": 46,
   "metadata": {},
   "outputs": [],
   "source": [
    "img = image.imread('bird_small.png')"
   ]
  },
  {
   "cell_type": "code",
   "execution_count": 47,
   "metadata": {},
   "outputs": [
    {
     "data": {
      "text/plain": [
       "(128, 128, 3)"
      ]
     },
     "execution_count": 47,
     "metadata": {},
     "output_type": "execute_result"
    }
   ],
   "source": [
    "img.shape"
   ]
  },
  {
   "cell_type": "code",
   "execution_count": 49,
   "metadata": {},
   "outputs": [],
   "source": [
    "img = np.reshape(img, (img.shape[0]*img.shape[1], 3))"
   ]
  },
  {
   "cell_type": "code",
   "execution_count": 50,
   "metadata": {},
   "outputs": [
    {
     "data": {
      "text/plain": [
       "(16384, 3)"
      ]
     },
     "execution_count": 50,
     "metadata": {},
     "output_type": "execute_result"
    }
   ],
   "source": [
    "img.shape"
   ]
  },
  {
   "cell_type": "code",
   "execution_count": 38,
   "metadata": {},
   "outputs": [
    {
     "data": {
      "text/plain": [
       "array([[[0.85882354, 0.7058824 , 0.40392157, ..., 0.89411765,\n",
       "         0.7137255 , 0.38431373],\n",
       "        [0.87058824, 0.6901961 , 0.37254903, ..., 0.8980392 ,\n",
       "         0.75686276, 0.49411765],\n",
       "        [0.8901961 , 0.74509805, 0.46666667, ..., 0.87058824,\n",
       "         0.63529414, 0.32941177],\n",
       "        ...,\n",
       "        [0.6901961 , 0.68235296, 0.5058824 , ..., 0.95686275,\n",
       "         0.85882354, 0.5411765 ],\n",
       "        [0.9490196 , 0.8392157 , 0.5176471 , ..., 0.05490196,\n",
       "         0.0627451 , 0.05098039],\n",
       "        [0.06666667, 0.07450981, 0.05490196, ..., 0.05098039,\n",
       "         0.06666667, 0.04705882]],\n",
       "\n",
       "       [[0.827451  , 0.6901961 , 0.42745098, ..., 0.8509804 ,\n",
       "         0.69803923, 0.4627451 ],\n",
       "        [0.8784314 , 0.7254902 , 0.46666667, ..., 0.8627451 ,\n",
       "         0.6666667 , 0.34509805],\n",
       "        [0.87058824, 0.7058824 , 0.41568628, ..., 0.75686276,\n",
       "         0.54901963, 0.22352941],\n",
       "        ...,\n",
       "        [0.5254902 , 0.5529412 , 0.43137255, ..., 0.91764706,\n",
       "         0.7921569 , 0.4745098 ],\n",
       "        [0.9529412 , 0.84705883, 0.5411765 , ..., 0.06666667,\n",
       "         0.08627451, 0.0627451 ],\n",
       "        [0.07058824, 0.07450981, 0.06666667, ..., 0.04705882,\n",
       "         0.06666667, 0.04705882]],\n",
       "\n",
       "       [[0.91764706, 0.7607843 , 0.4627451 , ..., 0.79607844,\n",
       "         0.6784314 , 0.42745098],\n",
       "        [0.827451  , 0.7176471 , 0.5058824 , ..., 0.7921569 ,\n",
       "         0.69803923, 0.49019608],\n",
       "        [0.81960785, 0.69803923, 0.4745098 , ..., 0.74509805,\n",
       "         0.57254905, 0.29411766],\n",
       "        ...,\n",
       "        [0.6666667 , 0.6784314 , 0.68235296, ..., 0.8627451 ,\n",
       "         0.74509805, 0.4627451 ],\n",
       "        [0.9019608 , 0.79607844, 0.50980395, ..., 0.07058824,\n",
       "         0.07450981, 0.07058824],\n",
       "        [0.07843138, 0.08235294, 0.07450981, ..., 0.05882353,\n",
       "         0.0627451 , 0.04705882]],\n",
       "\n",
       "       ...,\n",
       "\n",
       "       [[0.08627451, 0.09803922, 0.09411765, ..., 0.07450981,\n",
       "         0.08627451, 0.07843138],\n",
       "        [0.08235294, 0.08627451, 0.07450981, ..., 0.08627451,\n",
       "         0.09803922, 0.08627451],\n",
       "        [0.07843138, 0.10196079, 0.09803922, ..., 0.09411765,\n",
       "         0.10588235, 0.11372549],\n",
       "        ...,\n",
       "        [0.54509807, 0.5647059 , 0.4627451 , ..., 0.57254905,\n",
       "         0.5058824 , 0.36078432],\n",
       "        [0.5529412 , 0.48235294, 0.3372549 , ..., 0.44313726,\n",
       "         0.33333334, 0.31764707],\n",
       "        [0.49019608, 0.38431373, 0.34509805, ..., 0.3882353 ,\n",
       "         0.23921569, 0.23921569]],\n",
       "\n",
       "       [[0.09019608, 0.09803922, 0.08627451, ..., 0.08235294,\n",
       "         0.09411765, 0.09019608],\n",
       "        [0.08235294, 0.10196079, 0.08627451, ..., 0.08627451,\n",
       "         0.09803922, 0.09803922],\n",
       "        [0.08235294, 0.10980392, 0.09803922, ..., 0.11372549,\n",
       "         0.12941177, 0.11372549],\n",
       "        ...,\n",
       "        [0.5058824 , 0.49803922, 0.39215687, ..., 0.47058824,\n",
       "         0.40392157, 0.29803923],\n",
       "        [0.4862745 , 0.44313726, 0.29803923, ..., 0.44313726,\n",
       "         0.29803923, 0.2784314 ],\n",
       "        [0.4392157 , 0.3019608 , 0.27058825, ..., 0.34117648,\n",
       "         0.20392157, 0.19607843]],\n",
       "\n",
       "       [[0.06666667, 0.07843138, 0.0627451 , ..., 0.08235294,\n",
       "         0.09411765, 0.07450981],\n",
       "        [0.09019608, 0.09803922, 0.09019608, ..., 0.10588235,\n",
       "         0.11764706, 0.12941177],\n",
       "        [0.08627451, 0.09803922, 0.10196079, ..., 0.09803922,\n",
       "         0.09803922, 0.09803922],\n",
       "        ...,\n",
       "        [0.33333334, 0.34117648, 0.22352941, ..., 0.48235294,\n",
       "         0.42745098, 0.36078432],\n",
       "        [0.47058824, 0.41568628, 0.32156864, ..., 0.6       ,\n",
       "         0.4627451 , 0.43137255],\n",
       "        [0.62352943, 0.4627451 , 0.44705883, ..., 0.20392157,\n",
       "         0.15294118, 0.13333334]]], dtype=float32)"
      ]
     },
     "execution_count": 38,
     "metadata": {},
     "output_type": "execute_result"
    }
   ],
   "source": [
    "img"
   ]
  },
  {
   "cell_type": "code",
   "execution_count": 51,
   "metadata": {},
   "outputs": [],
   "source": [
    "k_means = cluster.KMeans(n_clusters=32)\n",
    "_ = k_means.fit(img)"
   ]
  },
  {
   "cell_type": "code",
   "execution_count": 52,
   "metadata": {},
   "outputs": [
    {
     "name": "stdout",
     "output_type": "stream",
     "text": [
      "labels: [25 25 25 ...  1  1  1]\n"
     ]
    },
    {
     "ename": "ValueError",
     "evalue": "cannot reshape array of size 16384 into shape (16384,3)",
     "output_type": "error",
     "traceback": [
      "\u001b[1;31m---------------------------------------------------------------------------\u001b[0m",
      "\u001b[1;31mValueError\u001b[0m                                Traceback (most recent call last)",
      "\u001b[1;32m<ipython-input-52-94a8889d1910>\u001b[0m in \u001b[0;36m<module>\u001b[1;34m()\u001b[0m\n\u001b[0;32m      1\u001b[0m \u001b[0mimg_clustered\u001b[0m \u001b[1;33m=\u001b[0m \u001b[0mk_means\u001b[0m\u001b[1;33m.\u001b[0m\u001b[0mlabels_\u001b[0m\u001b[1;33m\u001b[0m\u001b[0m\n\u001b[0;32m      2\u001b[0m \u001b[0mprint\u001b[0m\u001b[1;33m(\u001b[0m\u001b[1;34m'labels:'\u001b[0m\u001b[1;33m,\u001b[0m \u001b[0mimg_clustered\u001b[0m\u001b[1;33m)\u001b[0m\u001b[1;33m\u001b[0m\u001b[0m\n\u001b[1;32m----> 3\u001b[1;33m \u001b[0mimg_clustered\u001b[0m \u001b[1;33m=\u001b[0m \u001b[0mimg_clustered\u001b[0m\u001b[1;33m.\u001b[0m\u001b[0mreshape\u001b[0m\u001b[1;33m(\u001b[0m\u001b[0mimg\u001b[0m\u001b[1;33m.\u001b[0m\u001b[0mshape\u001b[0m\u001b[1;33m)\u001b[0m\u001b[1;33m\u001b[0m\u001b[0m\n\u001b[0m",
      "\u001b[1;31mValueError\u001b[0m: cannot reshape array of size 16384 into shape (16384,3)"
     ]
    }
   ],
   "source": [
    "img_clustered = k_means.labels_\n",
    "print('labels:', img_clustered)\n",
    "img_clustered = img_clustered.reshape(img.shape)"
   ]
  },
  {
   "cell_type": "code",
   "execution_count": 9,
   "metadata": {},
   "outputs": [
    {
     "data": {
      "text/plain": [
       "(49152, 1)"
      ]
     },
     "execution_count": 9,
     "metadata": {},
     "output_type": "execute_result"
    }
   ],
   "source": [
    "img_clustered.shape"
   ]
  },
  {
   "cell_type": "code",
   "execution_count": 12,
   "metadata": {},
   "outputs": [
    {
     "data": {
      "text/plain": [
       "array([[ 2],\n",
       "       [20],\n",
       "       [11],\n",
       "       ...,\n",
       "       [ 6],\n",
       "       [15],\n",
       "       [ 1]])"
      ]
     },
     "execution_count": 12,
     "metadata": {},
     "output_type": "execute_result"
    }
   ],
   "source": [
    "img_clustered.reshape((32, 32, -1))\n",
    "img_clustered"
   ]
  },
  {
   "cell_type": "code",
   "execution_count": 31,
   "metadata": {},
   "outputs": [
    {
     "ename": "TypeError",
     "evalue": "imshow() missing 1 required positional argument: 'X'",
     "output_type": "error",
     "traceback": [
      "\u001b[1;31m---------------------------------------------------------------------------\u001b[0m",
      "\u001b[1;31mTypeError\u001b[0m                                 Traceback (most recent call last)",
      "\u001b[1;32m<ipython-input-31-e2a04aff946b>\u001b[0m in \u001b[0;36m<module>\u001b[1;34m()\u001b[0m\n\u001b[1;32m----> 1\u001b[1;33m \u001b[0mplt\u001b[0m\u001b[1;33m.\u001b[0m\u001b[0mimshow\u001b[0m\u001b[1;33m(\u001b[0m\u001b[1;33m)\u001b[0m\u001b[1;33m\u001b[0m\u001b[0m\n\u001b[0m",
      "\u001b[1;31mTypeError\u001b[0m: imshow() missing 1 required positional argument: 'X'"
     ]
    }
   ],
   "source": [
    "plt.imshow()"
   ]
  },
  {
   "cell_type": "code",
   "execution_count": null,
   "metadata": {},
   "outputs": [],
   "source": []
  }
 ],
 "metadata": {
  "kernelspec": {
   "display_name": "Python 3",
   "language": "python",
   "name": "python3"
  },
  "language_info": {
   "codemirror_mode": {
    "name": "ipython",
    "version": 3
   },
   "file_extension": ".py",
   "mimetype": "text/x-python",
   "name": "python",
   "nbconvert_exporter": "python",
   "pygments_lexer": "ipython3",
   "version": "3.5.6"
  }
 },
 "nbformat": 4,
 "nbformat_minor": 2
}
