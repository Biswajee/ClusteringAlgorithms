{
  "nbformat": 4,
  "nbformat_minor": 0,
  "metadata": {
    "colab": {
      "name": "DBScan.ipynb",
      "provenance": []
    },
    "kernelspec": {
      "name": "python3",
      "display_name": "Python 3"
    }
  },
  "cells": [
    {
      "cell_type": "markdown",
      "metadata": {
        "id": "nJ4NKMPGZyqZ",
        "colab_type": "text"
      },
      "source": [
        "## Import Packages"
      ]
    },
    {
      "cell_type": "code",
      "metadata": {
        "id": "G9JzVGSnel1D",
        "colab_type": "code",
        "colab": {}
      },
      "source": [
        "# Importing required packages\n",
        "\n",
        "import numpy as np\n",
        "import pandas as pd\n",
        "import matplotlib.pyplot as plt\n",
        "from collections import Counter\n",
        "\n",
        "## import data\n",
        "from sklearn.datasets import make_moons\n",
        "from sklearn.datasets import load_iris\n",
        "from sklearn import datasets\n",
        "\n",
        "## import DBSCAN model\n",
        "from sklearn.cluster import DBSCAN\n",
        "from sklearn import metrics\n",
        "\n",
        "\n",
        "plt.style.use('ggplot')\n",
        "%matplotlib inline"
      ],
      "execution_count": 0,
      "outputs": []
    },
    {
      "cell_type": "markdown",
      "metadata": {
        "id": "tp09fxs-Z7bK",
        "colab_type": "text"
      },
      "source": [
        "# Visualize clustering on make_moons dataset"
      ]
    },
    {
      "cell_type": "code",
      "metadata": {
        "id": "BJpehDOWZn_M",
        "colab_type": "code",
        "colab": {
          "base_uri": "https://localhost:8080/",
          "height": 187
        },
        "outputId": "a0ace4d5-fd78-45ff-d468-b577ad1c7d7f"
      },
      "source": [
        "# import the data from sklearn.datasets.make_moons\n",
        "X_1, labels_true = make_moons(n_samples=200, noise=0.1, random_state=19)\n",
        "print(X_1[:10,])"
      ],
      "execution_count": 2,
      "outputs": [
        {
          "output_type": "stream",
          "text": [
            "[[ 0.28171457  0.91044406]\n",
            " [ 0.8389241  -0.53005338]\n",
            " [ 0.40915474  0.80944352]\n",
            " [-0.98415213  0.13142155]\n",
            " [ 1.15919021  0.4910425 ]\n",
            " [-0.96703486  0.0981273 ]\n",
            " [ 0.91739138 -0.2334927 ]\n",
            " [ 0.97827508  0.50147001]\n",
            " [ 1.85907097  0.33087146]\n",
            " [ 1.28971276 -0.36416076]]\n"
          ],
          "name": "stdout"
        }
      ]
    },
    {
      "cell_type": "code",
      "metadata": {
        "id": "sXxO0ybZaM7k",
        "colab_type": "code",
        "colab": {
          "base_uri": "https://localhost:8080/",
          "height": 51
        },
        "outputId": "bee6d624-87b7-49d4-ebad-f37d2c7a3f08"
      },
      "source": [
        "# train dbscan model\n",
        "model_1 = DBSCAN(eps=0.25, min_samples=12).fit(X_1)\n",
        "print(model_1)"
      ],
      "execution_count": 5,
      "outputs": [
        {
          "output_type": "stream",
          "text": [
            "DBSCAN(algorithm='auto', eps=0.25, leaf_size=30, metric='euclidean',\n",
            "       metric_params=None, min_samples=12, n_jobs=None, p=None)\n"
          ],
          "name": "stdout"
        }
      ]
    },
    {
      "cell_type": "code",
      "metadata": {
        "id": "10E9wsDdagLO",
        "colab_type": "code",
        "colab": {}
      },
      "source": [
        ""
      ],
      "execution_count": 0,
      "outputs": []
    }
  ]
}